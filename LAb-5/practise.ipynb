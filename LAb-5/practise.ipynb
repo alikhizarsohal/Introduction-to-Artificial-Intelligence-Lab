{
 "cells": [
  {
   "cell_type": "markdown",
   "metadata": {},
   "source": [
    "## BFS and shortest path by BFS"
   ]
  },
  {
   "cell_type": "code",
   "execution_count": 3,
   "metadata": {},
   "outputs": [
    {
     "name": "stdout",
     "output_type": "stream",
     "text": [
      "A B C D E F "
     ]
    }
   ],
   "source": [
    "from collections import deque\n",
    "\n",
    "graph = {\n",
    "    'A' : ['B', 'C'],\n",
    "    'B' : ['D', 'E'],\n",
    "    'C' : ['F'],\n",
    "    'D' : [],\n",
    "    'E' : ['F'],\n",
    "    'F' : []\n",
    "}\n",
    "\n",
    "def bfs(graph, start):\n",
    "    visited = set()\n",
    "    queue = deque([start])\n",
    "    while queue:\n",
    "        node = queue.popleft()\n",
    "        if node not in visited:\n",
    "            print(node, end=\" \")\n",
    "            visited.add(node)\n",
    "            queue.extend(graph[node])\n",
    "\n",
    "bfs(graph,'A')"
   ]
  },
  {
   "cell_type": "code",
   "execution_count": 21,
   "metadata": {},
   "outputs": [
    {
     "name": "stdout",
     "output_type": "stream",
     "text": [
      "[('A', ['A'])]\n",
      "['A', 'C', 'F']\n"
     ]
    }
   ],
   "source": [
    "from collections import deque\n",
    "\n",
    "def shortest_path_bfs(graph, start, target):\n",
    "    queue = deque([(start, [start])])  # Initialize the queue properly\n",
    "    visited = set([start])\n",
    "    print([(start, [start])]) \n",
    "    while queue:\n",
    "        node,path = queue.popleft()\n",
    "        if node == target:\n",
    "            return path\n",
    "        for neighbor in graph[node]:\n",
    "            if neighbor not in visited:\n",
    "                visited.add(neighbor)\n",
    "                queue.append((neighbor, path + [neighbor]))\n",
    "\n",
    "shortest_path = shortest_path_bfs(graph,'A','F')\n",
    "print(shortest_path)"
   ]
  },
  {
   "cell_type": "markdown",
   "metadata": {},
   "source": [
    "## DFS and shortest path by DFS"
   ]
  },
  {
   "cell_type": "code",
   "execution_count": 22,
   "metadata": {},
   "outputs": [
    {
     "name": "stdout",
     "output_type": "stream",
     "text": [
      "A B D E F C None\n"
     ]
    }
   ],
   "source": [
    "def dfs(graph, node, visited=None):\n",
    "    if visited is None:\n",
    "        visited = set()\n",
    "    visited.add(node)\n",
    "    print(node, end=\" \")\n",
    "    for neighbor in graph[node]:\n",
    "        if neighbor not in visited:\n",
    "            dfs(graph,neighbor,visited)\n",
    "\n",
    "print(dfs(graph,'A'))"
   ]
  },
  {
   "cell_type": "code",
   "execution_count": 32,
   "metadata": {},
   "outputs": [
    {
     "name": "stdout",
     "output_type": "stream",
     "text": [
      "['A', 'C', 'F']\n"
     ]
    }
   ],
   "source": [
    "def dfs_paths(graph, start, target, path=None):\n",
    "    if path is None:\n",
    "        path = [start]\n",
    "    if start == target:\n",
    "        return [path]  # Return a list containing the current path\n",
    "    \n",
    "    paths = []\n",
    "    for neighbor in graph[start]:\n",
    "        if neighbor not in path:\n",
    "            new_paths = dfs_paths(graph, neighbor, target, path + [neighbor])\n",
    "            paths.extend(new_paths)\n",
    "    return paths\n",
    "\n",
    "# Example graph representation\n",
    "graph = {\n",
    "    'A': ['B', 'C'],\n",
    "    'B': ['A', 'D', 'E'],\n",
    "    'C': ['A', 'F'],\n",
    "    'D': ['B'],\n",
    "    'E': ['B', 'F'],\n",
    "    'F': ['C', 'E']\n",
    "}\n",
    "\n",
    "# Find all paths from node 'A' to node 'F'\n",
    "all_paths = dfs_paths(graph, 'A', 'F')\n",
    "print(min(all_paths,key=len))\n"
   ]
  },
  {
   "cell_type": "code",
   "execution_count": 57,
   "metadata": {},
   "outputs": [],
   "source": [
    "from collections import deque\n",
    "\n",
    "def shortest_word_seq(start, target,word_dict):\n",
    "    queue = deque([(start, [start])])  # Initialize the queue properly\n",
    "    visited = set([start])\n",
    "    while queue:\n",
    "        word,path = queue.popleft()\n",
    "        if word == target:\n",
    "            return path\n",
    "        for i in range(len(word)):\n",
    "            for char in 'abcdefghijklmnopqrstuvwxyz':\n",
    "                n_word = word[:i]+char+word[i+1:]\n",
    "                if n_word in word_dict and n_word not in visited:\n",
    "                    visited.add(n_word)\n",
    "                    queue.append((n_word, path+[n_word])) \n",
    "    return []"
   ]
  },
  {
   "cell_type": "code",
   "execution_count": 58,
   "metadata": {},
   "outputs": [
    {
     "name": "stdout",
     "output_type": "stream",
     "text": [
      "Shortest transformation sequence: ['lead', 'load', 'goad', 'gold']\n"
     ]
    }
   ],
   "source": [
    "start_word = \"lead\"\n",
    "end_word = \"gold\"\n",
    "word_dictionary = {\n",
    "    \"lead\", \"load\", \"goad\", \"gold\", \"cold\", \"cord\", \"card\", \"bard\", \"yard\", \"yarn\", \n",
    "    \"yore\", \"core\", \"care\", \"cake\", \"lake\", \"lame\", \"game\", \"gate\", \"gape\", \"gale\",\n",
    "    \"sale\", \"sage\", \"page\", \"pale\", \"pole\", \"poll\", \"roll\", \"rill\", \"rile\", \"mile\"\n",
    "}\n",
    "\n",
    "shortest_transformation = shortest_word_seq(start_word, end_word, word_dictionary)\n",
    "print(\"Shortest transformation sequence:\", shortest_transformation)"
   ]
  },
  {
   "cell_type": "code",
   "execution_count": null,
   "metadata": {},
   "outputs": [],
   "source": []
  }
 ],
 "metadata": {
  "kernelspec": {
   "display_name": "base",
   "language": "python",
   "name": "python3"
  },
  "language_info": {
   "codemirror_mode": {
    "name": "ipython",
    "version": 3
   },
   "file_extension": ".py",
   "mimetype": "text/x-python",
   "name": "python",
   "nbconvert_exporter": "python",
   "pygments_lexer": "ipython3",
   "version": "3.11.5"
  }
 },
 "nbformat": 4,
 "nbformat_minor": 2
}
